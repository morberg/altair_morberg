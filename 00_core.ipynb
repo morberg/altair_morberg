{
 "cells": [
  {
   "cell_type": "code",
   "execution_count": null,
   "metadata": {},
   "outputs": [],
   "source": [
    "# default_exp core"
   ]
  },
  {
   "cell_type": "markdown",
   "metadata": {},
   "source": [
    "# altair_morberg\n",
    "\n",
    "A personal theme for Altair."
   ]
  },
  {
   "cell_type": "code",
   "execution_count": null,
   "metadata": {},
   "outputs": [],
   "source": [
    "#hide\n",
    "from nbdev.showdoc import *"
   ]
  },
  {
   "cell_type": "code",
   "execution_count": null,
   "metadata": {},
   "outputs": [],
   "source": [
    "#export\n",
    "def theme():\n",
    "    \"\"\"Niklas Morberg's personal theme for Altair\"\"\"\n",
    "    return {\n",
    "        \"config\": {\n",
    "            \"axis\": {\n",
    "                \"titleFontSize\": 16,\n",
    "                \"titleFontWeight\": \"normal\",\n",
    "                \"labelFontSize\": 12,\n",
    "            },\n",
    "            \"axisX\": {\"grid\": False},\n",
    "            \"axisY\": {\"gridDash\": [3], \"gridWidth\": 0.4},\n",
    "            \"legend\": {\"titleFontSize\": 14, \"labelFontSize\": 14},\n",
    "            \"font\": \"avenir, helvetica, sans-serif\",\n",
    "            \"title\": {\n",
    "                \"anchor\": \"start\",\n",
    "                \"frame\": \"group\",\n",
    "                \"offset\": 15,\n",
    "                \"fontSize\": 20,\n",
    "            },\n",
    "            \"view\": {\"strokeWidth\": 0, \"continuousWidth\": 600, \"continuousHeight\": 400},\n",
    "        }\n",
    "    }"
   ]
  },
  {
   "cell_type": "code",
   "execution_count": null,
   "metadata": {},
   "outputs": [],
   "source": []
  }
 ],
 "metadata": {
  "kernelspec": {
   "display_name": "Python 3",
   "language": "python",
   "name": "python3"
  }
 },
 "nbformat": 4,
 "nbformat_minor": 2
}
